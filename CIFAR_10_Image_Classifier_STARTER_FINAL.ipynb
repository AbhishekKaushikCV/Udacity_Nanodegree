{
  "cells": [
    {
      "cell_type": "markdown",
      "metadata": {
        "id": "view-in-github",
        "colab_type": "text"
      },
      "source": [
        "<a href=\"https://colab.research.google.com/github/AbhishekKaushikCV/Udacity_Nanodegree/blob/main/CIFAR_10_Image_Classifier_STARTER_FINAL.ipynb\" target=\"_parent\"><img src=\"https://colab.research.google.com/assets/colab-badge.svg\" alt=\"Open In Colab\"/></a>"
      ]
    },
    {
      "cell_type": "markdown",
      "metadata": {
        "id": "m-lX-Uv7p4T9"
      },
      "source": [
        "# Introduction\n",
        "\n",
        "In this project, you will build a neural network of your own design to evaluate the CIFAR-10 dataset.\n",
        "Our target accuracy is 70%, but any accuracy over 50% is a great start.\n",
        "Some of the benchmark results on CIFAR-10 include:\n",
        "\n",
        "78.9% Accuracy | [Deep Belief Networks; Krizhevsky, 2010](https://www.cs.toronto.edu/~kriz/conv-cifar10-aug2010.pdf)\n",
        "\n",
        "90.6% Accuracy | [Maxout Networks; Goodfellow et al., 2013](https://arxiv.org/pdf/1302.4389.pdf)\n",
        "\n",
        "96.0% Accuracy | [Wide Residual Networks; Zagoruyko et al., 2016](https://arxiv.org/pdf/1605.07146.pdf)\n",
        "\n",
        "99.0% Accuracy | [GPipe; Huang et al., 2018](https://arxiv.org/pdf/1811.06965.pdf)\n",
        "\n",
        "98.5% Accuracy | [Rethinking Recurrent Neural Networks and other Improvements for ImageClassification; Nguyen et al., 2020](https://arxiv.org/pdf/2007.15161.pdf)\n",
        "\n",
        "Research with this dataset is ongoing. Notably, many of these networks are quite large and quite expensive to train. \n",
        "\n",
        "## Imports"
      ]
    },
    {
      "cell_type": "code",
      "execution_count": 1,
      "metadata": {
        "id": "kzKnb91lp4UD"
      },
      "outputs": [],
      "source": [
        "## This cell contains the essential imports you will need – DO NOT CHANGE THE CONTENTS! ##\n",
        "import torch\n",
        "import torch.nn as nn\n",
        "import torch.nn.functional as F\n",
        "import torch.optim as optim\n",
        "import torchvision\n",
        "from torchvision import datasets,transforms\n",
        "from torchvision.datasets import CIFAR10\n",
        "import torch.utils.data as data\n",
        "\n",
        "from torch.utils.data import random_split\n",
        "\n",
        "import matplotlib.pyplot as plt\n",
        "import numpy as np\n",
        "import pandas as pd\n",
        "\n",
        "import seaborn as sns\n",
        "from tqdm import tqdm\n",
        "import random"
      ]
    },
    {
      "cell_type": "code",
      "source": [
        "print(f\"PyTorch Version: {torch.__version__}\")"
      ],
      "metadata": {
        "colab": {
          "base_uri": "https://localhost:8080/"
        },
        "id": "bTcIITztqSfH",
        "outputId": "84c94926-5df8-4e64-f313-22d12f665519"
      },
      "execution_count": 2,
      "outputs": [
        {
          "output_type": "stream",
          "name": "stdout",
          "text": [
            "PyTorch Version: 1.12.1+cu113\n"
          ]
        }
      ]
    },
    {
      "cell_type": "markdown",
      "metadata": {
        "id": "_24hC8K1p4UF"
      },
      "source": [
        "## Load the Dataset\n",
        "\n",
        "Specify your transforms as a list first.\n",
        "The transforms module is already loaded as `transforms`.\n",
        "\n",
        "CIFAR-10 is fortunately included in the torchvision module.\n",
        "Then, you can create your dataset using the `CIFAR10` object from `torchvision.datasets` ([the documentation is available here](https://pytorch.org/docs/stable/torchvision/datasets.html#cifar)).\n",
        "Make sure to specify `download=True`! \n",
        "\n",
        "Once your dataset is created, you'll also need to define a `DataLoader` from the `torch.utils.data` module for both the train and the test set."
      ]
    },
    {
      "cell_type": "code",
      "source": [
        "# Constants\n",
        "DATA_MEANS = [0.5, 0.5, 0.5]\n",
        "DATA_STD = [0.5, 0.5, 0.5]\n",
        "DATASET_PATH = \"../data\"\n",
        "BATCH_SIZE = 64\n",
        "# number of epochs\n",
        "N_EPOCHS = 20"
      ],
      "metadata": {
        "id": "wVd6R8dMrKyG"
      },
      "execution_count": 3,
      "outputs": []
    },
    {
      "cell_type": "code",
      "source": [
        "# Transformations on the test set\n",
        "\n",
        "test_transform = transforms.Compose([transforms.ToTensor(),\n",
        "                                     transforms.Normalize(DATA_MEANS, DATA_STD)\n",
        "                                     ])\n",
        "# Transformations for the training\n",
        "train_transform = transforms.Compose([transforms.RandomHorizontalFlip(),\n",
        "                                      transforms.RandomRotation(10),\n",
        "                                      transforms.ToTensor(),\n",
        "                                      transforms.Normalize(DATA_MEANS, DATA_STD)\n",
        "                                     ])\n",
        "# Load the train set, with training transformations\n",
        "train_dataset = CIFAR10(root=DATASET_PATH, train=True, transform=train_transform, download=True)\n",
        "\n",
        "# Validation split\n",
        "valid_size=0.2\n",
        "train_length = len(train_dataset)\n",
        "indices=list(range(len(train_dataset)))\n",
        "split = int(np.floor(valid_size * train_length))\n",
        "np.random.shuffle(indices)\n",
        "\n",
        "train_idx=indices[split:]\n",
        "valid_idx=indices[:split]\n",
        "\n",
        "train_sampler=data.SubsetRandomSampler(train_idx)\n",
        "validation_sampler=data.SubsetRandomSampler(valid_idx)\n",
        "\n",
        "\n",
        "# Load the test set, with texst transformations\n",
        "test_set = CIFAR10(root=DATASET_PATH, train=False, transform=test_transform, download=True)\n",
        "\n",
        "# Train, Test, and Validation Data Loaders\n",
        "train_loader = data.DataLoader(train_dataset, batch_size=BATCH_SIZE,sampler=train_sampler)\n",
        "val_loader = data.DataLoader(train_dataset, batch_size=BATCH_SIZE,sampler=validation_sampler)\n",
        "test_loader = data.DataLoader(test_set, batch_size=BATCH_SIZE, shuffle=False, drop_last=False)\n",
        "\n",
        "# The 10 classes in the dataset\n",
        "classes = ('plane', 'car', 'bird', 'cat', 'deer', 'dog', 'frog', 'horse', 'ship', 'truck')"
      ],
      "metadata": {
        "colab": {
          "base_uri": "https://localhost:8080/"
        },
        "id": "Ph0XQwRerXal",
        "outputId": "6e6f7b49-b587-401b-d67c-35321452c792"
      },
      "execution_count": 4,
      "outputs": [
        {
          "output_type": "stream",
          "name": "stdout",
          "text": [
            "Files already downloaded and verified\n",
            "Files already downloaded and verified\n"
          ]
        }
      ]
    },
    {
      "cell_type": "markdown",
      "metadata": {
        "id": "BBFOUsbRp4UH"
      },
      "source": [
        "## Explore the Dataset\n",
        "Using matplotlib, numpy, and torch, explore the dimensions of your data.\n",
        "\n",
        "You can view images using the `show5` function defined below – it takes a data loader as an argument.\n",
        "Remember that normalized images will look really weird to you! You may want to try changing your transforms to view images.\n",
        "Typically using no transforms other than `toTensor()` works well for viewing – but not as well for training your network.\n",
        "If `show5` doesn't work, go back and check your code for creating your data loaders and your training/test sets."
      ]
    },
    {
      "cell_type": "code",
      "execution_count": 5,
      "metadata": {
        "id": "9k4-HiL9p4UJ"
      },
      "outputs": [],
      "source": [
        "# Functio to show 5 images from the dataset\n",
        "def show5(img_loader):\n",
        "    dataiter = iter(img_loader)\n",
        "    \n",
        "    batch = next(dataiter)\n",
        "    labels = batch[1][0:5]\n",
        "    images = batch[0][0:5]\n",
        "    for i in range(5):\n",
        "        print(classes[labels[i]])\n",
        "    \n",
        "        image = images[i].numpy()\n",
        "        plt.imshow(image.T)\n",
        "        plt.show()\n",
        "        print(f\" The size of the image is: {image.shape}\")"
      ]
    },
    {
      "cell_type": "code",
      "execution_count": 6,
      "metadata": {
        "colab": {
          "base_uri": "https://localhost:8080/",
          "height": 1000
        },
        "id": "f0AcCt55p4UJ",
        "outputId": "91359dca-0686-48f2-c73d-e399e71d9d56"
      },
      "outputs": [
        {
          "output_type": "stream",
          "name": "stderr",
          "text": [
            "WARNING:matplotlib.image:Clipping input data to the valid range for imshow with RGB data ([0..1] for floats or [0..255] for integers).\n"
          ]
        },
        {
          "output_type": "stream",
          "name": "stdout",
          "text": [
            "cat\n"
          ]
        },
        {
          "output_type": "display_data",
          "data": {
            "text/plain": [
              "<Figure size 432x288 with 1 Axes>"
            ],
            "image/png": "[encoded data removed]"
          },
          "metadata": {
            "needs_background": "light"
          }
        },
        {
          "output_type": "stream",
          "name": "stderr",
          "text": [
            "WARNING:matplotlib.image:Clipping input data to the valid range for imshow with RGB data ([0..1] for floats or [0..255] for integers).\n"
          ]
        },
        {
          "output_type": "stream",
          "name": "stdout",
          "text": [
            " The size of the image is: (3, 32, 32)\n",
            "ship\n"
          ]
        },
        {
          "output_type": "display_data",
          "data": {
            "text/plain": [
              "<Figure size 432x288 with 1 Axes>"
            ],
            "image/png": "[encoded data removed]"
          },
          "metadata": {
            "needs_background": "light"
          }
        },
        {
          "output_type": "stream",
          "name": "stderr",
          "text": [
            "WARNING:matplotlib.image:Clipping input data to the valid range for imshow with RGB data ([0..1] for floats or [0..255] for integers).\n"
          ]
        },
        {
          "output_type": "stream",
          "name": "stdout",
          "text": [
            " The size of the image is: (3, 32, 32)\n",
            "ship\n"
          ]
        },
        {
          "output_type": "display_data",
          "data": {
            "text/plain": [
              "<Figure size 432x288 with 1 Axes>"
            ],
            "image/png": "[encoded data removed]"
          },
          "metadata": {
            "needs_background": "light"
          }
        },
        {
          "output_type": "stream",
          "name": "stderr",
          "text": [
            "WARNING:matplotlib.image:Clipping input data to the valid range for imshow with RGB data ([0..1] for floats or [0..255] for integers).\n"
          ]
        },
        {
          "output_type": "stream",
          "name": "stdout",
          "text": [
            " The size of the image is: (3, 32, 32)\n",
            "plane\n"
          ]
        },
        {
          "output_type": "display_data",
          "data": {
            "text/plain": [
              "<Figure size 432x288 with 1 Axes>"
            ],
            "image/png": "[encoded data removed]"
          },
          "metadata": {
            "needs_background": "light"
          }
        },
        {
          "output_type": "stream",
          "name": "stderr",
          "text": [
            "WARNING:matplotlib.image:Clipping input data to the valid range for imshow with RGB data ([0..1] for floats or [0..255] for integers).\n"
          ]
        },
        {
          "output_type": "stream",
          "name": "stdout",
          "text": [
            " The size of the image is: (3, 32, 32)\n",
            "frog\n"
          ]
        },
        {
          "output_type": "display_data",
          "data": {
            "text/plain": [
              "<Figure size 432x288 with 1 Axes>"
            ],
            "image/png": "[encoded data removed]"
          },
          "metadata": {
            "needs_background": "light"
          }
        },
        {
          "output_type": "stream",
          "name": "stdout",
          "text": [
            " The size of the image is: (3, 32, 32)\n"
          ]
        }
      ],
      "source": [
        "# Explore data\n",
        "## Show the images from the test datset  ##\n",
        "show5(test_loader)"
      ]
    },
    {
      "cell_type": "markdown",
      "metadata": {
        "id": "HRY2vuxlp4UK"
      },
      "source": [
        "## Build your Neural Network\n",
        "Using the layers in `torch.nn` (which has been imported as `nn`) and the `torch.nn.functional` module (imported as `F`), construct a neural network based on the parameters of the dataset. \n",
        "Feel free to construct a model of any architecture – feedforward, \n",
        "convolutional, or even something more advanced!"
      ]
    },
    {
      "cell_type": "code",
      "execution_count": 7,
      "metadata": {
        "id": "ZNxHg9Dhp4UL"
      },
      "outputs": [],
      "source": [
        "## YOUR CODE HERE ##\n",
        "# Model1: Using full conncted layers\n",
        "class FNet(nn.Module):\n",
        "    def __init__(self):\n",
        "        super(FNet,self).__init__()\n",
        "        self.fc1=nn.Linear(3*32*32,2048)\n",
        "        self.fc2=nn.Linear(2048,1024)\n",
        "        self.fc3=nn.Linear(1024,512)\n",
        "        self.fc4=nn.Linear(512,256)\n",
        "        self.out=nn.Linear(256,10)\n",
        "        self.dropout=nn.Dropout(0.25)\n",
        "\n",
        "    def forward(self,x):\n",
        "        x=x.view(-1,32*32*3)\n",
        "        x=self.dropout(F.relu(self.fc1(x)))\n",
        "        x=self.dropout(F.relu(self.fc2(x)))\n",
        "        x=self.dropout(F.relu(self.fc3(x)))\n",
        "        x=self.dropout(F.relu(self.fc4(x)))\n",
        "        x=self.out(x)\n",
        "        return x"
      ]
    },
    {
      "cell_type": "code",
      "source": [
        "# Model2: Using convolution, batch normalisation , dropout layer\n",
        "class convNet(nn.Module):\n",
        "    def __init__(self):\n",
        "        super(convNet,self).__init__()\n",
        "        self.conv1=nn.Conv2d(in_channels=3,out_channels=16,kernel_size=3,stride=1,padding=1)\n",
        "        self.conv2=nn.Conv2d(in_channels=16,out_channels=32,kernel_size=3,stride=1,padding=1)\n",
        "        self.conv3=nn.Conv2d(in_channels=32,out_channels=64,kernel_size=3,stride=1,padding=1)\n",
        "        self.conv4=nn.Conv2d(in_channels=64,out_channels=128,kernel_size=3,stride=1,padding=1)\n",
        "        self.conv5=nn.Conv2d(in_channels=128,out_channels=256,kernel_size=3,stride=1,padding=1)\n",
        "        self.b1=nn.BatchNorm2d(16)\n",
        "        self.b2=nn.BatchNorm2d(64)\n",
        "        self.b3=nn.BatchNorm2d(256)\n",
        "        self.pool=nn.MaxPool2d(kernel_size=2,stride=2)  \n",
        "\n",
        "        self.dropout=nn.Dropout(0.1)\n",
        "        self.fc1=nn.Linear(256,128)\n",
        "        self.fc2=nn.Linear(128,64)\n",
        "        self.out=nn.Linear(64,10)\n",
        "\n",
        "\n",
        "    def forward(self,x):\n",
        "        x=self.pool(F.relu(self.b1(self.conv1(x))))\n",
        "        x=self.pool(F.relu(self.conv2(x)))\n",
        "        x=self.pool(F.relu(self.b2(self.conv3(x))))\n",
        "        x=self.pool(F.relu(self.conv4(x)))\n",
        "        x=self.pool(F.relu(self.b3(self.conv5(x))))\n",
        "        x=x.view(-1,256)\n",
        "        x = self.dropout(x)\n",
        "        x=self.dropout(F.relu(self.fc1(x)))\n",
        "        x=self.dropout(F.relu(self.fc2(x)))\n",
        "        x=self.out(x)   \n",
        "        return x"
      ],
      "metadata": {
        "id": "5uhhOn31n8oX"
      },
      "execution_count": 8,
      "outputs": []
    },
    {
      "cell_type": "markdown",
      "metadata": {
        "id": "tDDiEoVFp4UM"
      },
      "source": [
        "Specify a loss function and an optimizer, and instantiate the model.\n",
        "\n",
        "If you use a less common loss function, please note why you chose that loss function in a comment."
      ]
    },
    {
      "cell_type": "code",
      "source": [
        "# Find the available device, if cuda available\n",
        "device = 'cuda' if torch.cuda.is_available() else 'cpu'"
      ],
      "metadata": {
        "id": "vIwHSg2T1mxm"
      },
      "execution_count": 9,
      "outputs": []
    },
    {
      "cell_type": "code",
      "source": [
        "# Model's object instances\n",
        "model_1=FNet()\n",
        "model_2=convNet()"
      ],
      "metadata": {
        "id": "cCSt39M2ud39"
      },
      "execution_count": 10,
      "outputs": []
    },
    {
      "cell_type": "code",
      "source": [
        "# Transfer the model to the available device\n",
        "model_1.to(device)\n",
        "model_2.to(device)"
      ],
      "metadata": {
        "colab": {
          "base_uri": "https://localhost:8080/"
        },
        "id": "djDYJuHz787Y",
        "outputId": "00c96ee5-d763-4745-de1b-b2292a851d3e"
      },
      "execution_count": 11,
      "outputs": [
        {
          "output_type": "execute_result",
          "data": {
            "text/plain": [
              "convNet(\n",
              "  (conv1): Conv2d(3, 16, kernel_size=(3, 3), stride=(1, 1), padding=(1, 1))\n",
              "  (conv2): Conv2d(16, 32, kernel_size=(3, 3), stride=(1, 1), padding=(1, 1))\n",
              "  (conv3): Conv2d(32, 64, kernel_size=(3, 3), stride=(1, 1), padding=(1, 1))\n",
              "  (conv4): Conv2d(64, 128, kernel_size=(3, 3), stride=(1, 1), padding=(1, 1))\n",
              "  (conv5): Conv2d(128, 256, kernel_size=(3, 3), stride=(1, 1), padding=(1, 1))\n",
              "  (b1): BatchNorm2d(16, eps=1e-05, momentum=0.1, affine=True, track_running_stats=True)\n",
              "  (b2): BatchNorm2d(64, eps=1e-05, momentum=0.1, affine=True, track_running_stats=True)\n",
              "  (b3): BatchNorm2d(256, eps=1e-05, momentum=0.1, affine=True, track_running_stats=True)\n",
              "  (pool): MaxPool2d(kernel_size=2, stride=2, padding=0, dilation=1, ceil_mode=False)\n",
              "  (dropout): Dropout(p=0.1, inplace=False)\n",
              "  (fc1): Linear(in_features=256, out_features=128, bias=True)\n",
              "  (fc2): Linear(in_features=128, out_features=64, bias=True)\n",
              "  (out): Linear(in_features=64, out_features=10, bias=True)\n",
              ")"
            ]
          },
          "metadata": {},
          "execution_count": 11
        }
      ]
    },
    {
      "cell_type": "code",
      "execution_count": 12,
      "metadata": {
        "id": "MiEuVxO0p4UM"
      },
      "outputs": [],
      "source": [
        "## YOUR CODE HERE ##\n",
        "# loss function: crossentropy\n",
        "criterion=nn.CrossEntropyLoss()\n",
        "# specify optimizer\n",
        "optimizer = optim.SGD(model_2.parameters(), lr=.01)\n"
      ]
    },
    {
      "cell_type": "markdown",
      "metadata": {
        "id": "ef2ej26yp4UM"
      },
      "source": [
        "## Running your Neural Network\n",
        "Use whatever method you like to train your neural network, and ensure you record the average loss at each epoch. \n",
        "Don't forget to use `torch.device()` and the `.to()` method for both your model and your data if you are using GPU!\n",
        "\n",
        "If you want to print your loss during each epoch, you can use the `enumerate` function and print the loss after a set number of batches. 250 batches works well for most people!"
      ]
    },
    {
      "cell_type": "code",
      "source": [
        "# List to store loss to visualize\n",
        "train_losslist = []\n",
        "valid_losslist = []\n",
        "valid_loss_min = np.Inf\n",
        "\n",
        "for epoch in range(N_EPOCHS):\n",
        "\n",
        "    # keep track of training and validation loss\n",
        "    train_loss = 0.0\n",
        "    valid_loss = 0.0\n",
        "    \n",
        "    ###################\n",
        "    # train the model #\n",
        "    ###################\n",
        "    model_2.train()\n",
        "    for data, target in train_loader:\n",
        "        # move tensors to GPU if CUDA is available\n",
        "        data,target = data.to(device), target.to(device)\n",
        "        # clear the gradients of all optimized variables\n",
        "        optimizer.zero_grad()\n",
        "        # forward pass: compute predicted outputs by passing inputs to the model\n",
        "        output = model_2(data)\n",
        "        # calculate the batch loss\n",
        "        loss = criterion(output, target)\n",
        "        # backward pass: compute gradient of the loss with respect to model parameters\n",
        "        loss.backward()\n",
        "        # perform a single optimization step (parameter update)\n",
        "        optimizer.step()\n",
        "        # update training loss\n",
        "        train_loss += loss.item()*data.size(0)\n",
        "        \n",
        "    ######################    \n",
        "    # validate the model #\n",
        "    ######################\n",
        "    model_2.eval()\n",
        "    for data, target in val_loader:\n",
        "        # move tensors to GPU if CUDA is available\n",
        "        data,target = data.to(device), target.to(device)\n",
        "        # forward pass: compute predicted outputs by passing inputs to the model\n",
        "        output = model_2(data)\n",
        "        # calculate the batch loss\n",
        "        loss = criterion(output, target)\n",
        "        # update average validation loss \n",
        "        valid_loss += loss.item()*data.size(0)\n",
        "    \n",
        "    # calculate average losses\n",
        "    train_loss = train_loss/len(train_loader.dataset)\n",
        "    valid_loss = valid_loss/len(val_loader.dataset)\n",
        "    train_losslist.append(train_loss)\n",
        "    valid_losslist.append(valid_loss)\n",
        "        \n",
        "    # print training/validation statistics \n",
        "    print('Epoch: {} \\tTraining Loss: {:.6f} \\tValidation Loss: {:.6f}'.format(\n",
        "        epoch, train_loss, valid_loss))\n",
        "    \n",
        "    # save model if validation loss has decreased\n",
        "    if valid_loss <= valid_loss_min:\n",
        "        print('Validation loss decreased ({:.6f} --> {:.6f}).  Saving model ...'.format(\n",
        "        valid_loss_min,\n",
        "        valid_loss))\n",
        "        torch.save(model_2.state_dict(), 'model_cifar.pt')\n",
        "        valid_loss_min = valid_loss"
      ],
      "metadata": {
        "colab": {
          "base_uri": "https://localhost:8080/"
        },
        "id": "l_OkeYXpvheO",
        "outputId": "f69fd74e-cfb9-4864-92d4-3398bd4a03ec"
      },
      "execution_count": 13,
      "outputs": [
        {
          "output_type": "stream",
          "name": "stdout",
          "text": [
            "Epoch: 0 \tTraining Loss: 1.476592 \tValidation Loss: 0.312558\n",
            "Validation loss decreased (inf --> 0.312558).  Saving model ...\n",
            "Epoch: 1 \tTraining Loss: 1.147132 \tValidation Loss: 0.275002\n",
            "Validation loss decreased (0.312558 --> 0.275002).  Saving model ...\n",
            "Epoch: 2 \tTraining Loss: 1.007350 \tValidation Loss: 0.237366\n",
            "Validation loss decreased (0.275002 --> 0.237366).  Saving model ...\n",
            "Epoch: 3 \tTraining Loss: 0.927792 \tValidation Loss: 0.221663\n",
            "Validation loss decreased (0.237366 --> 0.221663).  Saving model ...\n",
            "Epoch: 4 \tTraining Loss: 0.861576 \tValidation Loss: 0.215270\n",
            "Validation loss decreased (0.221663 --> 0.215270).  Saving model ...\n",
            "Epoch: 5 \tTraining Loss: 0.806381 \tValidation Loss: 0.209755\n",
            "Validation loss decreased (0.215270 --> 0.209755).  Saving model ...\n",
            "Epoch: 6 \tTraining Loss: 0.771822 \tValidation Loss: 0.189128\n",
            "Validation loss decreased (0.209755 --> 0.189128).  Saving model ...\n",
            "Epoch: 7 \tTraining Loss: 0.732776 \tValidation Loss: 0.184072\n",
            "Validation loss decreased (0.189128 --> 0.184072).  Saving model ...\n",
            "Epoch: 8 \tTraining Loss: 0.702029 \tValidation Loss: 0.174612\n",
            "Validation loss decreased (0.184072 --> 0.174612).  Saving model ...\n",
            "Epoch: 9 \tTraining Loss: 0.678198 \tValidation Loss: 0.183786\n",
            "Epoch: 10 \tTraining Loss: 0.656005 \tValidation Loss: 0.180900\n",
            "Epoch: 11 \tTraining Loss: 0.632111 \tValidation Loss: 0.169415\n",
            "Validation loss decreased (0.174612 --> 0.169415).  Saving model ...\n",
            "Epoch: 12 \tTraining Loss: 0.617946 \tValidation Loss: 0.167066\n",
            "Validation loss decreased (0.169415 --> 0.167066).  Saving model ...\n",
            "Epoch: 13 \tTraining Loss: 0.597988 \tValidation Loss: 0.162799\n",
            "Validation loss decreased (0.167066 --> 0.162799).  Saving model ...\n",
            "Epoch: 14 \tTraining Loss: 0.577915 \tValidation Loss: 0.166065\n",
            "Epoch: 15 \tTraining Loss: 0.561353 \tValidation Loss: 0.155938\n",
            "Validation loss decreased (0.162799 --> 0.155938).  Saving model ...\n",
            "Epoch: 16 \tTraining Loss: 0.549680 \tValidation Loss: 0.162619\n",
            "Epoch: 17 \tTraining Loss: 0.540251 \tValidation Loss: 0.167874\n",
            "Epoch: 18 \tTraining Loss: 0.529255 \tValidation Loss: 0.153535\n",
            "Validation loss decreased (0.155938 --> 0.153535).  Saving model ...\n",
            "Epoch: 19 \tTraining Loss: 0.515250 \tValidation Loss: 0.155931\n"
          ]
        }
      ]
    },
    {
      "cell_type": "markdown",
      "metadata": {
        "id": "oAwODGjsp4UN"
      },
      "source": [
        "Plot the training loss (and validation loss/accuracy, if recorded)."
      ]
    },
    {
      "cell_type": "code",
      "source": [
        "# Plot the training and validation loss of convNet\n",
        "fig = plt.figure(1,figsize=(10,5))\n",
        "idx = 1\n",
        "ax= fig.add_subplot(1,2,idx)\n",
        "ax.plot(train_losslist,label=\"Training Loss\")\n",
        "ax.plot(valid_losslist,label=\"Validation Loss\")\n",
        "ax.set_title('CIFAR-10 convNet:')\n",
        "plt.legend()"
      ],
      "metadata": {
        "colab": {
          "base_uri": "https://localhost:8080/",
          "height": 354
        },
        "id": "izZsC02wz_e8",
        "outputId": "3f596826-0a2d-41bf-cca5-c813b094a761"
      },
      "execution_count": 14,
      "outputs": [
        {
          "output_type": "execute_result",
          "data": {
            "text/plain": [
              "<matplotlib.legend.Legend at 0x7f1dfab897d0>"
            ]
          },
          "metadata": {},
          "execution_count": 14
        },
        {
          "output_type": "display_data",
          "data": {
            "text/plain": [
              "<Figure size 720x360 with 1 Axes>"
            ],
            "image/png": "[encoded data removed]"
          },
          "metadata": {
            "needs_background": "light"
          }
        }
      ]
    },
    {
      "cell_type": "markdown",
      "metadata": {
        "id": "YOYTcLusp4UO"
      },
      "source": [
        "## Testing your model\n",
        "Using the previously created `DataLoader` for the test set, compute the percentage of correct predictions using the highest probability prediction. \n",
        "\n",
        "If your accuracy is over 70%, great work! \n",
        "This is a hard task to exceed 70% on.\n",
        "\n",
        "If your accuracy is under 45%, you'll need to make improvements.\n",
        "Go back and check your model architecture, loss function, and optimizer to make sure they're appropriate for an image classification task."
      ]
    },
    {
      "cell_type": "code",
      "source": [
        "# Test the model's performance on test dataset\n",
        "total = 0\n",
        "correct = 0\n",
        "model_2.eval() # out our model in evaluation mode\n",
        "with torch.no_grad():\n",
        "    for data in test_loader:\n",
        "        images, labels = data\n",
        "        images, labels = images.to(device), labels.to(device)\n",
        "        outputs = model_2(images)\n",
        "        _, predicted = torch.max(outputs.data, 1)\n",
        "        total += labels.size(0)\n",
        "        correct += (predicted == labels).sum().item()\n",
        "print('Accuracy: %d %%' % (100 * correct / total))"
      ],
      "metadata": {
        "colab": {
          "base_uri": "https://localhost:8080/"
        },
        "id": "zhiKH6bs4vLk",
        "outputId": "0e1d2041-68d5-4326-b510-9eb0d441bdcf"
      },
      "execution_count": 18,
      "outputs": [
        {
          "output_type": "stream",
          "name": "stdout",
          "text": [
            "Accuracy: 75 %\n"
          ]
        }
      ]
    },
    {
      "cell_type": "markdown",
      "metadata": {
        "id": "wOMMz9B2p4UO"
      },
      "source": [
        "## Saving your model\n",
        "Using `torch.save`, save your model for future loading."
      ]
    },
    {
      "cell_type": "code",
      "execution_count": 16,
      "metadata": {
        "id": "d77Ny1S5p4UP"
      },
      "outputs": [],
      "source": [
        "## YOUR CODE HERE ##\n",
        "torch.save(model_2.state_dict(), 'model_cifar_convnet.pt')"
      ]
    },
    {
      "cell_type": "markdown",
      "metadata": {
        "id": "-o7XySY2p4UP"
      },
      "source": [
        "## Make a Recommendation\n",
        "\n",
        "Based on your evaluation, what is your recommendation on whether to build or buy? Explain your reasoning below."
      ]
    },
    {
      "cell_type": "markdown",
      "metadata": {
        "id": "7wBk6f-Vp4UP"
      },
      "source": [
        "\n",
        "**Solution:**\n",
        "- Based on the above analysis, I will recommend to build an alogorithm in side the company instead of buying from outside.\n",
        "- I got accuracy above 70% , using convolutional neural network.\n",
        "- We can also increase the accuracy further, by using transfer learning, and some pretrained models like VGG19, RESNET.\n",
        "\n",
        "\n"
      ]
    },
    {
      "cell_type": "code",
      "source": [
        "# References:\n",
        "# - https://pytorch.org/tutorials/\n",
        "# - https://github.com/NvsYashwanth/CIFAR-10-Image-Classification/blob/master/cifar10.ipynb\n",
        "# - https://shonit2096.medium.com/cnn-on-cifar10-data-set-using-pytorch-34be87e09844\n",
        "# - https://medium.com/analytics-vidhya/deep-learning-creating-an-image-classifier-using-pytorch-with-cifar-10-f603659722b2"
      ],
      "metadata": {
        "id": "WiD0-rRKOxvn"
      },
      "execution_count": null,
      "outputs": []
    }
  ],
  "metadata": {
    "kernelspec": {
      "display_name": "Python 3",
      "language": "python",
      "name": "python3"
    },
    "language_info": {
      "codemirror_mode": {
        "name": "ipython",
        "version": 3
      },
      "file_extension": ".py",
      "mimetype": "text/x-python",
      "name": "python",
      "nbconvert_exporter": "python",
      "pygments_lexer": "ipython3",
      "version": "3.8.3"
    },
    "colab": {
      "provenance": [],
      "include_colab_link": true
    },
    "accelerator": "GPU",
    "gpuClass": "standard"
  },
  "nbformat": 4,
  "nbformat_minor": 0
}